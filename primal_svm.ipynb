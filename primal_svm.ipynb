{
 "cells": [
  {
   "cell_type": "markdown",
   "metadata": {},
   "source": [
    "# Support Vector Machine"
   ]
  },
  {
   "cell_type": "code",
   "execution_count": 1,
   "metadata": {},
   "outputs": [],
   "source": [
    "import numpy as np \n",
    "\n",
    "\n",
    "import matplotlib.pyplot as plt\n",
    "%matplotlib inline \n",
    "\n",
    "from pylearn_ml191.svm import PrimalSVM\n",
    "\n",
    "import warnings \n",
    "warnings.filterwarnings(\"ignore\")"
   ]
  },
  {
   "cell_type": "markdown",
   "metadata": {},
   "source": [
    "## 1. Data Generation"
   ]
  },
  {
   "cell_type": "code",
   "execution_count": 2,
   "metadata": {},
   "outputs": [],
   "source": [
    "means = [[2, 2], [6, 2]]\n",
    "cov = [[.3, 0.], [0., .3]]\n",
    "\n",
    "# Numbers of sample of each class \n",
    "N = 100\n",
    "\n",
    "X_1 = np.random.multivariate_normal(means[0], cov, N)\n",
    "X_2 = np.random.multivariate_normal(means[1], cov, N)"
   ]
  },
  {
   "cell_type": "code",
   "execution_count": 3,
   "metadata": {},
   "outputs": [
    {
     "data": {
      "image/png": "[encoded data removed]",
      "text/plain": [
       "<Figure size 432x288 with 1 Axes>"
      ]
     },
     "metadata": {
      "needs_background": "light"
     },
     "output_type": "display_data"
    }
   ],
   "source": [
    "# Visualize generated data \n",
    "plt.scatter(X_1[:, 0], X_1[:, 1], c='red', marker='o', alpha=1)\n",
    "plt.scatter(X_2[:, 0], X_2[:, 1], c='blue', marker='s', alpha=1)\n",
    "plt.xlabel(\"$x_1$\", fontsize = 20)\n",
    "plt.ylabel(\"$x_2$\", fontsize = 20)\n",
    "plt.show()"
   ]
  },
  {
   "cell_type": "code",
   "execution_count": 4,
   "metadata": {},
   "outputs": [
    {
     "name": "stdout",
     "output_type": "stream",
     "text": [
      "(200, 2)\n",
      "(200, 1)\n"
     ]
    }
   ],
   "source": [
    "# N: num_samples, M - 1: features \n",
    "# X = (N, M-1)\n",
    "X = np.concatenate((X_1, X_2), axis=0)\n",
    "# target vector: t = (N, 1)\n",
    "t = np.concatenate((-np.ones((N, 1)), np.ones((N,1))), axis=0)\n",
    "\n",
    "print(X.shape)\n",
    "print(t.shape)"
   ]
  },
  {
   "cell_type": "markdown",
   "metadata": {},
   "source": [
    "## 2. Primal Problem in SVM "
   ]
  },
  {
   "cell_type": "markdown",
   "metadata": {},
   "source": [
    "### 2.1 Tìm nghiệm bằng thư viện CVXOPT"
   ]
  },
  {
   "cell_type": "code",
   "execution_count": 5,
   "metadata": {},
   "outputs": [],
   "source": [
    "primal_model = PrimalSVM()\n",
    "w, b = primal_model.fit(X, t)\n",
    "primal_support_vectors = primal_model.get_support_vectors(X)"
   ]
  },
  {
   "cell_type": "markdown",
   "metadata": {},
   "source": [
    "### 2.2 Tìm nghiệm bằng thư viện SVC trong sklearn"
   ]
  },
  {
   "cell_type": "code",
   "execution_count": 6,
   "metadata": {},
   "outputs": [],
   "source": [
    "# Import libraries\n",
    "from sklearn.svm import SVC \n",
    "\n",
    "svc = SVC(kernel=\"linear\", C=1e10)\n",
    "svc.fit(X, t)\n",
    "\n",
    "# Get w, b solved by SVC model in sklearn \n",
    "w_l = svc.coef_\n",
    "b_l = svc.intercept_"
   ]
  },
  {
   "cell_type": "code",
   "execution_count": 7,
   "metadata": {},
   "outputs": [
    {
     "name": "stdout",
     "output_type": "stream",
     "text": [
      "--------------NGHIỆM BẰNG THƯ VIỆN SVC -------------------\n",
      "Support vectors: \n",
      "[[3.6859941  2.28541072]\n",
      " [4.40924276 2.89596806]\n",
      " [4.54675451 2.06217999]]\n",
      "w: [[2.42765673 0.40151684]]\n",
      "b: [-10.86627654]\n",
      "----------------------------------------------------------\n",
      "----------  NGHIỆM BẰNG CÔNG THỨC SỬ DỤNG CVXOPT ---------\n",
      "Support vectors: \n",
      "[[3.6859941  2.28541072]\n",
      " [4.40924276 2.89596806]\n",
      " [4.54675451 2.06217999]]\n",
      "w: [[2.42734873 0.40032826]]\n",
      "b: [-10.86210764]\n",
      "----------------------------------------------------------\n"
     ]
    }
   ],
   "source": [
    "# SO SÁNH NGHIỆM BẰNG CÔNG THỨC VÀ NGHIỆM ĐẠT ĐƯỢC BẰNG CVXOPT\n",
    "print(\"--------------NGHIỆM BẰNG THƯ VIỆN SVC -------------------\")\n",
    "print(\"Support vectors: \")\n",
    "print(svc.support_vectors_)\n",
    "print(\"w:\", w_l)\n",
    "print(\"b:\", b_l)\n",
    "print(\"----------------------------------------------------------\")\n",
    "print(\"----------  NGHIỆM BẰNG CÔNG THỨC SỬ DỤNG CVXOPT ---------\")\n",
    "print(\"Support vectors: \")\n",
    "print(primal_support_vectors)\n",
    "print(\"w:\", w)\n",
    "print(\"b:\", b)\n",
    "print(\"----------------------------------------------------------\")"
   ]
  },
  {
   "cell_type": "code",
   "execution_count": 8,
   "metadata": {},
   "outputs": [
    {
     "data": {
      "image/png": "[encoded data removed]",
      "text/plain": [
       "<Figure size 432x288 with 1 Axes>"
      ]
     },
     "metadata": {},
     "output_type": "display_data"
    }
   ],
   "source": [
    "######## Visualize results in 2-D Dimensions #########\n",
    "# Some settings \n",
    "step_size = 0.025\n",
    "x_min = 0\n",
    "x_max = 7\n",
    "y_min = 0\n",
    "y_max = 4\n",
    "\n",
    "x_1 = np.arange(x_min, x_max, step_size)\n",
    "x_2 = np.arange(y_min, y_max, step_size)\n",
    "\n",
    "xx, yy = np.meshgrid(x_1, x_2)\n",
    "\n",
    "xx1 = xx.ravel().reshape(xx.size, 1)\n",
    "yy1 = yy.ravel().reshape(yy.size, 1)\n",
    "\n",
    "X_use = np.concatenate((xx1, yy1), axis=1)\n",
    "\n",
    "z = primal_model.predict(X_use)\n",
    "z = np.reshape(z, xx.shape)\n",
    "S = primal_model.get_support_vectors(X)\n",
    "\n",
    "fig, ax = plt.subplots()\n",
    "plt.scatter(X_1[:, 0], X_1[:, 1], c='red', marker='o', alpha=1, label= \"-1\")\n",
    "plt.scatter(X_2[:, 0], X_2[:, 1], c='blue', marker='s', alpha=1, label= \"+1\")\n",
    "cs = plt.contourf(xx, yy, z, 200, cmap='jet', alpha = .1, levels=2)\n",
    "\n",
    "# Plot decision boundary and margin lines \n",
    "w1 = w[0][0]\n",
    "w2 = w[0][1]\n",
    "\n",
    "# w1*x1 + w2*x2 + b = 1 ---> x2 = (1 - b - w1 * x1) / w2    \n",
    "y_pos_1 = (1 - b - w1 * x_1) / w2 \n",
    "\n",
    "# w1*x1 + w2*x2 + b = -1 ---> x2 = (-1 - b - w1 * x1) / w2\n",
    "y_neg_1 = (- 1 - b - w1 * x_1) / w2 \n",
    "\n",
    "# w1*x1 + w2*x2 + b = 0 ---> x2 = (-b - w1 * x1) / w2\n",
    "decision_bound =  (-b - w1 * x_1) / w2 \n",
    "\n",
    "plt.plot(x_1, y_pos_1, c='blue', linewidth=1, label=\"w.T @ x + b = 1\")\n",
    "plt.plot(x_1, decision_bound, c='black', linewidth=3, label=\"w.T @ x + b = 0\")\n",
    "plt.plot(x_1, y_neg_1, c='red', linewidth=1, label=\"w.T @ x + b = -1\")\n",
    "\n",
    "proxy = [plt.Rectangle((0,0), 1, 1, fc = pc.get_facecolor()[0]) \n",
    "    for pc in cs.collections]\n",
    "\n",
    "# Circling the points, which are support vectors\n",
    "for m in S:\n",
    "    circle = plt.Circle(m, 0.1, color='k', fill = False)\n",
    "    ax.add_artist(circle)\n",
    "        \n",
    "plt.legend()\n",
    "plt.xticks(())\n",
    "plt.yticks(())\n",
    "plt.xlim(x_min, x_max)\n",
    "plt.ylim(y_min, y_max)\n",
    "plt.xlabel(\"$x_1$\", fontsize = 20)\n",
    "plt.ylabel(\"$x_2$\", fontsize = 20)\n",
    "plt.show()"
   ]
  }
 ],
 "metadata": {
  "kernelspec": {
   "display_name": "Python 3",
   "language": "python",
   "name": "python3"
  },
  "language_info": {
   "codemirror_mode": {
    "name": "ipython",
    "version": 3
   },
   "file_extension": ".py",
   "mimetype": "text/x-python",
   "name": "python",
   "nbconvert_exporter": "python",
   "pygments_lexer": "ipython3",
   "version": "3.7.4"
  }
 },
 "nbformat": 4,
 "nbformat_minor": 4
}
