{
 "cells": [
  {
   "cell_type": "markdown",
   "metadata": {},
   "source": [
    "# SVM"
   ]
  },
  {
   "cell_type": "code",
   "execution_count": 1,
   "metadata": {},
   "outputs": [],
   "source": [
    "import numpy as np \n",
    "\n",
    "import matplotlib.pyplot as plt\n",
    "%matplotlib inline \n",
    "\n",
    "from pylearn_ml191.svm import KernelSVM\n",
    "from sklearn.svm import SVC \n",
    "\n",
    "# Ignore warnings\n",
    "import warnings \n",
    "warnings.filterwarnings(\"ignore\")\n",
    "\n",
    "# Fixed random seed\n",
    "RANDOM_SEED = 21"
   ]
  },
  {
   "cell_type": "code",
   "execution_count": 2,
   "metadata": {},
   "outputs": [],
   "source": [
    "X = np.array([[2, 1], [4, 3], [2, 5], [3, 7]])\n",
    "y = np.array([[1.], [1.], [-1.], [-1.]])"
   ]
  },
  {
   "cell_type": "markdown",
   "metadata": {},
   "source": [
    "### Using SVM in pylearn_ml191"
   ]
  },
  {
   "cell_type": "code",
   "execution_count": 3,
   "metadata": {},
   "outputs": [],
   "source": [
    "model = KernelSVM(kernel=\"linear\", C=0.5, atol=1e-3)\n",
    "model.fit(X, y)"
   ]
  },
  {
   "cell_type": "markdown",
   "metadata": {},
   "source": [
    "### Using SVC"
   ]
  },
  {
   "cell_type": "code",
   "execution_count": 4,
   "metadata": {},
   "outputs": [
    {
     "data": {
      "text/plain": [
       "SVC(C=0.5, cache_size=200, class_weight=None, coef0=0.0,\n",
       "    decision_function_shape='ovr', degree=3, gamma='auto_deprecated',\n",
       "    kernel='linear', max_iter=-1, probability=False, random_state=None,\n",
       "    shrinking=True, tol=0.001, verbose=False)"
      ]
     },
     "execution_count": 4,
     "metadata": {},
     "output_type": "execute_result"
    }
   ],
   "source": [
    "svc = SVC(kernel=\"linear\", C=0.5, tol=1e-3)\n",
    "svc.fit(X, y)"
   ]
  },
  {
   "cell_type": "code",
   "execution_count": 5,
   "metadata": {},
   "outputs": [
    {
     "name": "stdout",
     "output_type": "stream",
     "text": [
      "--------------NGHIỆM BẰNG THƯ VIỆN SVC -------------------\n",
      "Support vectors: \n",
      "[[2. 5.]\n",
      " [4. 3.]]\n",
      "w: [[ 0.5 -0.5]]\n",
      "b: [0.5]\n",
      "----------------------------------------------------------\n",
      "----------  NGHIỆM BẰNG pylearn_ml191 ---------\n",
      "Support vectors: \n",
      "[[4 3]\n",
      " [2 5]]\n",
      "w: [[ 0.49958108 -0.50031418]]\n",
      "b: [0.50251346]\n",
      "----------------------------------------------------------\n"
     ]
    }
   ],
   "source": [
    "# SO SÁNH NGHIỆM BẰNG CÔNG THỨC VÀ NGHIỆM ĐẠT ĐƯỢC BẰNG CVXOPT\n",
    "print(\"--------------NGHIỆM BẰNG THƯ VIỆN SVC -------------------\")\n",
    "print(\"Support vectors: \")\n",
    "print(svc.support_vectors_)\n",
    "print(\"w:\", svc.coef_)\n",
    "print(\"b:\", svc.intercept_)\n",
    "print(\"----------------------------------------------------------\")\n",
    "print(\"----------  NGHIỆM BẰNG pylearn_ml191 ---------\")\n",
    "print(\"Support vectors: \")\n",
    "print(model.support_vectors_)\n",
    "print(\"w:\", model.w)\n",
    "print(\"b:\", model.b)\n",
    "print(\"----------------------------------------------------------\")"
   ]
  },
  {
   "cell_type": "code",
   "execution_count": 6,
   "metadata": {},
   "outputs": [
    {
     "data": {
      "text/plain": [
       "array([[ 1.],\n",
       "       [-1.]])"
      ]
     },
     "execution_count": 6,
     "metadata": {},
     "output_type": "execute_result"
    }
   ],
   "source": [
    "X_val = np.array([[2.5, 2], [1.0, 4.5]])\n",
    "model.predict(X_val)"
   ]
  }
 ],
 "metadata": {
  "kernelspec": {
   "display_name": "Python 3",
   "language": "python",
   "name": "python3"
  },
  "language_info": {
   "codemirror_mode": {
    "name": "ipython",
    "version": 3
   },
   "file_extension": ".py",
   "mimetype": "text/x-python",
   "name": "python",
   "nbconvert_exporter": "python",
   "pygments_lexer": "ipython3",
   "version": "3.7.4"
  }
 },
 "nbformat": 4,
 "nbformat_minor": 4
}
