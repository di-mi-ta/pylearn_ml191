{
 "cells": [
  {
   "cell_type": "markdown",
   "metadata": {},
   "source": [
    "# Principal Components Analysis"
   ]
  },
  {
   "cell_type": "markdown",
   "metadata": {},
   "source": [
    "## Import Libraries"
   ]
  },
  {
   "cell_type": "code",
   "execution_count": 1,
   "metadata": {},
   "outputs": [],
   "source": [
    "# Import Libraries\n",
    "import numpy as np\n",
    "from pylearn_ml191.dimentional_reduction import PCA\n",
    "\n",
    "from sklearn.decomposition import PCA as Sklearn_PCA\n",
    "from sklearn.metrics import classification_report\n",
    "from sklearn import datasets\n",
    "from sklearn.model_selection import train_test_split\n",
    "from sklearn.svm import SVC\n",
    "\n",
    "from matplotlib import pyplot as plt\n",
    "from matplotlib import lines\n",
    "%matplotlib inline\n",
    "\n",
    "# Fixed random seed \n",
    "np.random.seed(21)\n",
    "\n",
    "# Ignore warnings \n",
    "import warnings \n",
    "warnings.filterwarnings(\"ignore\")"
   ]
  },
  {
   "cell_type": "markdown",
   "metadata": {},
   "source": [
    "## 1. Data Generation"
   ]
  },
  {
   "cell_type": "code",
   "execution_count": 2,
   "metadata": {},
   "outputs": [],
   "source": [
    "def true_model(x):\n",
    "    return x - 2"
   ]
  },
  {
   "cell_type": "code",
   "execution_count": 3,
   "metadata": {},
   "outputs": [],
   "source": [
    "N = 10\n",
    "x_min = 0\n",
    "x_max = 2\n",
    "\n",
    "norm_mu = 0\n",
    "norm_scale = 1\n",
    "\n",
    "x = np.random.uniform(x_min, x_max, N)\n",
    "noise = np.random.normal(norm_mu, norm_scale, N)\n",
    "y = (true_model(x) + noise)\n",
    "\n",
    "x = np.reshape(x, (N, 1))\n",
    "y = np.reshape(y, (N, 1))\n",
    "\n",
    "X = np.concatenate([x, y], axis=1)"
   ]
  },
  {
   "cell_type": "code",
   "execution_count": 4,
   "metadata": {},
   "outputs": [
    {
     "data": {
      "image/png": "[encoded data removed]",
      "text/plain": [
       "<Figure size 504x288 with 1 Axes>"
      ]
     },
     "metadata": {
      "needs_background": "light"
     },
     "output_type": "display_data"
    }
   ],
   "source": [
    "# For plot true model \n",
    "step_size = 0.001\n",
    "x_plot = np.arange(x_min, x_max, step_size)\n",
    "y_true_plot = true_model(x_plot)\n",
    "\n",
    "plt.figure(figsize=(7,4))\n",
    "plt.scatter(X[:, 0], X[:,1], s=60, c='blue', alpha=0.5)\n",
    "plt.plot(x_plot, y_true_plot, linewidth=2, c ='g')\n",
    "plt.xlabel('x')\n",
    "plt.ylabel('y')\n",
    "plt.show()"
   ]
  },
  {
   "cell_type": "code",
   "execution_count": 5,
   "metadata": {},
   "outputs": [],
   "source": [
    "# Some helper functions\n",
    "def project(X, u):\n",
    "    def project_vec(x, u):\n",
    "        return u * (x @ u) / (u @ u) \n",
    "    u = u.reshape((-1,))\n",
    "    Z = np.zeros(X.shape)\n",
    "    for i, x in enumerate(X):\n",
    "        z = project_vec(x, u)\n",
    "        Z[i] = z\n",
    "    return Z"
   ]
  },
  {
   "cell_type": "markdown",
   "metadata": {},
   "source": [
    "## 2. Principal Component Analysis"
   ]
  },
  {
   "cell_type": "code",
   "execution_count": 6,
   "metadata": {},
   "outputs": [
    {
     "name": "stdout",
     "output_type": "stream",
     "text": [
      "===================================================\n",
      "Nghiệm do thư viện tự hiện thực (pylearn_ml191): \n",
      "[[-0.29442484 -0.95567464]]\n",
      "---------------------------------------------------\n",
      "Nghiệm của PCA trong sklearn: \n",
      "[[0.29442484 0.95567464]]\n",
      "===================================================\n"
     ]
    }
   ],
   "source": [
    "# Visualization \n",
    "step_size = 0.001\n",
    "x_plot = np.arange(x_min, x_max, step_size)\n",
    "y_true_plot = true_model(x_plot)\n",
    "\n",
    "pca = PCA(n_components = 1)\n",
    "Y = pca.fit_transform(X)\n",
    "X_retrival = pca.inverse_transform(Y)\n",
    "print(\"===================================================\")\n",
    "print(\"Nghiệm do thư viện tự hiện thực (pylearn_ml191): \")\n",
    "print(pca.U)\n",
    "print(\"---------------------------------------------------\")\n",
    "sPCA = Sklearn_PCA(n_components=1)\n",
    "sPCA.fit(X)\n",
    "print(\"Nghiệm của PCA trong sklearn: \")\n",
    "print(sPCA.components_)\n",
    "print(\"===================================================\")"
   ]
  },
  {
   "cell_type": "code",
   "execution_count": 7,
   "metadata": {},
   "outputs": [
    {
     "data": {
      "image/png": "[encoded data removed]",
      "text/plain": [
       "<Figure size 432x288 with 1 Axes>"
      ]
     },
     "metadata": {
      "needs_background": "light"
     },
     "output_type": "display_data"
    }
   ],
   "source": [
    "custom_point = 4\n",
    "ori = X[custom_point]\n",
    "new = X_retrival[custom_point]\n",
    "\n",
    "pca = PCA(n_components=2)\n",
    "pca.fit(X)\n",
    "vecs = pca.U\n",
    "mean = pca.mean\n",
    "\n",
    "plt.scatter(X[:, 0], X[:,1], s=60, c='r', alpha=1)\n",
    "plt.plot([ori[0], mean[0]], [ori[1], mean[1]] , 'g', alpha=0.6)\n",
    "plt.plot([new[0], mean[0]], [ori[1], mean[1]] , 'b', alpha=0.6)\n",
    "plt.plot([ori[0], new[0]], [ori[1], new[1]] , 'y--')\n",
    "\n",
    "u1, u2 = vecs\n",
    "u1_vec = plt.arrow(*mean, u1[0]*0.5, u1[1]*0.5, head_width=0.05, linewidth=2, color='b', label=\"u1\")\n",
    "plt.arrow(*mean, - u1[0]*0.5, - u1[1]*0.5, head_width=0.05, linewidth=2, color='b', label=\"u1\")\n",
    "u2_vec = plt.arrow(*mean, u2[0] * 0.5, u2[1] * 0.5, head_width=0.05, linewidth=2, color='black', label=\"u2\")\n",
    "plt.arrow(*mean, - u2[0]*0.5, - u2[1]*0.5, head_width=0.05, linewidth=2, color='black', label=\"u2\")\n",
    "plt.legend([u1_vec, u2_vec,], ['$u_{1}$', '$u_{2}$']);\n",
    "plt.show()"
   ]
  },
  {
   "cell_type": "markdown",
   "metadata": {},
   "source": [
    "## 3. Using PCA with IRIS dataset"
   ]
  },
  {
   "cell_type": "markdown",
   "metadata": {},
   "source": [
    "### 3.1 Loading IRIS Dataset"
   ]
  },
  {
   "cell_type": "code",
   "execution_count": 8,
   "metadata": {},
   "outputs": [],
   "source": [
    "iris = datasets.load_iris()\n",
    "X = iris.data\n",
    "y = iris.target\n",
    "target_names = iris.target_names"
   ]
  },
  {
   "cell_type": "code",
   "execution_count": 9,
   "metadata": {},
   "outputs": [
    {
     "name": "stdout",
     "output_type": "stream",
     "text": [
      "PCA from pylearn_ml191: \n",
      "=======================\n",
      "10 samples from X_new: \n",
      "---------------------\n",
      "[[-2.68412563 -0.31939725]\n",
      " [-2.71414169  0.17700123]\n",
      " [-2.88899057  0.14494943]\n",
      " [-2.74534286  0.31829898]\n",
      " [-2.72871654 -0.32675451]\n",
      " [-2.28085963 -0.74133045]\n",
      " [-2.82053775  0.08946138]\n",
      " [-2.62614497 -0.16338496]\n",
      " [-2.88638273  0.57831175]\n",
      " [-2.6727558   0.11377425]]\n",
      "---------------------\n"
     ]
    },
    {
     "data": {
      "text/plain": [
       "<Figure size 432x288 with 0 Axes>"
      ]
     },
     "metadata": {},
     "output_type": "display_data"
    },
    {
     "data": {
      "image/png": "[encoded data removed]",
      "text/plain": [
       "<Figure size 432x288 with 1 Axes>"
      ]
     },
     "metadata": {
      "needs_background": "light"
     },
     "output_type": "display_data"
    }
   ],
   "source": [
    "print(\"PCA from pylearn_ml191: \")\n",
    "print(\"=======================\")\n",
    "\n",
    "pca = PCA(n_components=2)\n",
    "X_new = pca.fit_transform(X)\n",
    "\n",
    "print(\"10 samples from X_new: \")\n",
    "print(\"---------------------\")\n",
    "print(X_new[:10, :])\n",
    "print(\"---------------------\")\n",
    "\n",
    "plt.figure()\n",
    "colors = ['navy', 'turquoise', 'darkorange']\n",
    "lw = 2\n",
    "\n",
    "plt.figure()\n",
    "for color, i, target_name in zip(colors, [0, 1, 2], target_names):\n",
    "    plt.scatter(X_new[y == i, 0], X_new[y == i, 1], alpha=.7, c=color,\n",
    "                label=target_name)\n",
    "plt.legend(loc='best', shadow=False, scatterpoints=1)\n",
    "plt.title('LDA of IRIS dataset')\n",
    "\n",
    "plt.show()"
   ]
  },
  {
   "cell_type": "code",
   "execution_count": 10,
   "metadata": {},
   "outputs": [
    {
     "name": "stdout",
     "output_type": "stream",
     "text": [
      "PCA from sklearn: \n",
      "=======================\n",
      "10 samples from X_new: \n",
      "---------------------\n",
      "[[-2.68412563  0.31939725]\n",
      " [-2.71414169 -0.17700123]\n",
      " [-2.88899057 -0.14494943]\n",
      " [-2.74534286 -0.31829898]\n",
      " [-2.72871654  0.32675451]\n",
      " [-2.28085963  0.74133045]\n",
      " [-2.82053775 -0.08946138]\n",
      " [-2.62614497  0.16338496]\n",
      " [-2.88638273 -0.57831175]\n",
      " [-2.6727558  -0.11377425]]\n",
      "---------------------\n"
     ]
    },
    {
     "data": {
      "text/plain": [
       "<Figure size 432x288 with 0 Axes>"
      ]
     },
     "metadata": {},
     "output_type": "display_data"
    },
    {
     "data": {
      "image/png": "[encoded data removed]",
      "text/plain": [
       "<Figure size 432x288 with 1 Axes>"
      ]
     },
     "metadata": {
      "needs_background": "light"
     },
     "output_type": "display_data"
    }
   ],
   "source": [
    "print(\"PCA from sklearn: \")\n",
    "print(\"=======================\")\n",
    "\n",
    "sklearn_pca = Sklearn_PCA(n_components=2)\n",
    "X_new = sklearn_pca.fit_transform(X)\n",
    "\n",
    "print(\"10 samples from X_new: \")\n",
    "print(\"---------------------\")\n",
    "print(X_new[:10, :])\n",
    "print(\"---------------------\")\n",
    "\n",
    "plt.figure()\n",
    "colors = ['navy', 'turquoise', 'darkorange']\n",
    "lw = 2\n",
    "\n",
    "plt.figure()\n",
    "for color, i, target_name in zip(colors, [0, 1, 2], target_names):\n",
    "    plt.scatter(X_new[y == i, 0], X_new[y == i, 1], alpha=.7, c=color,\n",
    "                label=target_name)\n",
    "plt.legend(loc='best', shadow=False, scatterpoints=1)\n",
    "plt.title('LDA of IRIS dataset')\n",
    "\n",
    "plt.show()"
   ]
  }
 ],
 "metadata": {
  "kernelspec": {
   "display_name": "Python 3",
   "language": "python",
   "name": "python3"
  },
  "language_info": {
   "codemirror_mode": {
    "name": "ipython",
    "version": 3
   },
   "file_extension": ".py",
   "mimetype": "text/x-python",
   "name": "python",
   "nbconvert_exporter": "python",
   "pygments_lexer": "ipython3",
   "version": "3.7.4"
  }
 },
 "nbformat": 4,
 "nbformat_minor": 4
}
