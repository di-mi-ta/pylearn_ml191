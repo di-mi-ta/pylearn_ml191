{
 "cells": [
  {
   "cell_type": "markdown",
   "metadata": {},
   "source": [
    "# Hidden Markov Model"
   ]
  },
  {
   "cell_type": "markdown",
   "metadata": {},
   "source": [
    "## 1. Import Libraries"
   ]
  },
  {
   "cell_type": "code",
   "execution_count": 1,
   "metadata": {},
   "outputs": [],
   "source": [
    "import numpy as np\n",
    "\n",
    "from hmmlearn import hmm # https://hmmlearn.readthedocs.io/en/latest/\n",
    "from pylearn_ml191.hmm import HMM\n",
    "\n",
    "# Fix random seed\n",
    "np.random.seed(21)"
   ]
  },
  {
   "cell_type": "code",
   "execution_count": 2,
   "metadata": {},
   "outputs": [],
   "source": [
    "# Helper functions\n",
    "#-------------------\n",
    "def keys_to_values(d, keys):\n",
    "    return [d[k] for k in keys]\n",
    "\n",
    "def values_to_keys(d, values):\n",
    "    def get_index(d, val):\n",
    "        for k, v in d.items():\n",
    "            if v == val:\n",
    "                return k\n",
    "            \n",
    "    return [get_index(d, v) for v in values]"
   ]
  },
  {
   "cell_type": "markdown",
   "metadata": {},
   "source": [
    "## 2. Solutions for three problems\n",
    "Ref: https://www.ece.ucsb.edu/Faculty/Rabiner/ece259/Reprints/tutorial%20on%20hmm%20and%20applications.pdf"
   ]
  },
  {
   "cell_type": "code",
   "execution_count": 3,
   "metadata": {},
   "outputs": [],
   "source": [
    "obs_space_dict = { \"Đỏ\": 0, \"Xanh\": 1, \"Vàng\": 2}\n",
    "state_dict =  {\"Can 1\": 0, \"Can 2\": 1, \"Can 3\": 2}\n",
    "\n",
    "A = np.array([\n",
    "    [0.1, 0.5, 0.4],\n",
    "    [0.3, 0.3, 0.4],\n",
    "    [0.4, 0.4, 0.2]\n",
    "])\n",
    "\n",
    "B = np.array([\n",
    "    [0.2, 0.25, 0.55],\n",
    "    [0.45, 0.2, 0.35],\n",
    "    [0.2, 0.1, 0.7],\n",
    "])\n",
    "\n",
    "pi = np.array([0.3, 0.3, 0.4])"
   ]
  },
  {
   "cell_type": "code",
   "execution_count": 4,
   "metadata": {},
   "outputs": [
    {
     "name": "stdout",
     "output_type": "stream",
     "text": [
      "Model from pylearn_ml191: \n",
      "=========================\n",
      "A: Transition probability matrix\n",
      "[[0.1 0.5 0.4]\n",
      " [0.3 0.3 0.4]\n",
      " [0.4 0.4 0.2]]\n",
      "------------------------------\n",
      "B: Emission probability matrix\n",
      "[[0.2  0.25 0.55]\n",
      " [0.45 0.2  0.35]\n",
      " [0.2  0.1  0.7 ]]\n",
      "-------------------------------\n",
      "pi: Initital state distribution\n",
      "[0.3 0.3 0.4]\n"
     ]
    }
   ],
   "source": [
    "model = HMM(A, B, pi)\n",
    "print(\"Model from pylearn_ml191: \")\n",
    "print(\"=========================\")\n",
    "model.show_model()"
   ]
  },
  {
   "cell_type": "code",
   "execution_count": 5,
   "metadata": {},
   "outputs": [
    {
     "name": "stdout",
     "output_type": "stream",
     "text": [
      "Model from hmmlearn: \n",
      "====================\n",
      "A: Transition probability matrix\n",
      "[[0.1 0.5 0.4]\n",
      " [0.3 0.3 0.4]\n",
      " [0.4 0.4 0.2]]\n",
      "B: Emission probability matrix\n",
      "[[0.2  0.25 0.55]\n",
      " [0.45 0.2  0.35]\n",
      " [0.2  0.1  0.7 ]]\n",
      "pi: Initital state distribution\n",
      "[0.3 0.3 0.4]\n"
     ]
    }
   ],
   "source": [
    "model_hmmlearn = hmm.MultinomialHMM(n_components=3, \n",
    "                           algorithm=\"viterbi\",\n",
    "                           random_state=21,\n",
    "                           n_iter=10000,\n",
    "                           tol=0.05)\n",
    "\n",
    "# Specify pi, A, B of model \n",
    "model_hmmlearn.transmat_ = A\n",
    "model_hmmlearn.emissionprob_ = B\n",
    "model_hmmlearn.startprob_ = pi\n",
    "\n",
    "print(\"Model from hmmlearn: \")\n",
    "print(\"====================\")\n",
    "print(\"A: Transition probability matrix\")\n",
    "print(model_hmmlearn.transmat_)\n",
    "print(\"B: Emission probability matrix\")\n",
    "print(model_hmmlearn.emissionprob_)\n",
    "print(\"pi: Initital state distribution\")\n",
    "print(model_hmmlearn.startprob_)"
   ]
  },
  {
   "cell_type": "markdown",
   "metadata": {},
   "source": [
    "### 2.1 Problem 1"
   ]
  },
  {
   "cell_type": "code",
   "execution_count": 7,
   "metadata": {},
   "outputs": [
    {
     "name": "stdout",
     "output_type": "stream",
     "text": [
      "=======================================================\n",
      "** PROBLEM 1: Calc P(O1, O2, O3, ... , OT | pi, A, B) \n",
      "=======================================================\n",
      "Observation Sequences:  ['Vàng', 'Xanh']\n",
      "=======================================================\n",
      "Result from pylearn_ml191: \n",
      "Prob(O | pi, A, B) = 0.1016\n",
      "-------------------------------------------------------\n",
      "Result from hmmlearn: \n",
      "Prob(O | pi, A, B) = 0.1016\n",
      "=======================================================\n"
     ]
    }
   ],
   "source": [
    "obs_seq = [\"Vàng\", \"Xanh\"]\n",
    "obs_idxs = np.array(keys_to_values(obs_space_dict, obs_seq))\n",
    "\n",
    "print(\"=======================================================\")\n",
    "print(\"** PROBLEM 1: Calc P(O1, O2, O3, ... , OT | pi, A, B) \")\n",
    "print(\"=======================================================\")\n",
    "print(\"Observation Sequences: \", obs_seq)\n",
    "print(\"=======================================================\")\n",
    "print(\"Result from pylearn_ml191: \")\n",
    "print(\"Prob(O | pi, A, B) = {:0.4f}\".format(model.score(obs_idxs)))\n",
    "print(\"-------------------------------------------------------\")\n",
    "print(\"Result from hmmlearn: \")\n",
    "print(\"Prob(O | pi, A, B) = {:0.4f}\".format(np.exp(model_hmmlearn.score(obs_idxs.reshape(-1, 1)))))\n",
    "print(\"=======================================================\")"
   ]
  },
  {
   "cell_type": "markdown",
   "metadata": {},
   "source": [
    "### 2.2 Problem 2"
   ]
  },
  {
   "cell_type": "code",
   "execution_count": 8,
   "metadata": {},
   "outputs": [
    {
     "name": "stdout",
     "output_type": "stream",
     "text": [
      "========================================================================\n",
      "** PROBLEM 2: Find state seq is best 'explained' the from observations\n",
      "========================================================================\n",
      "Result from pylearn_ml191: \n",
      "Most likely state sequence:  ['Can 3', 'Can 1']\n",
      "Probability: 0.028000\n",
      "------------------------------------------------------------------------\n",
      "Result from hmmlearn: \n",
      "Most likely state sequence:  ['Can 3', 'Can 1']\n",
      "Probability: 0.028000\n",
      "========================================================================\n"
     ]
    }
   ],
   "source": [
    "print(\"========================================================================\")\n",
    "print(\"** PROBLEM 2: Find state seq is best 'explained' the from observations\" )\n",
    "print(\"========================================================================\")\n",
    "states_idx, prob = model.decode(obs_idxs)\n",
    "print(\"Result from pylearn_ml191: \")\n",
    "print (\"Most likely state sequence: \", values_to_keys(state_dict, states_idx))\n",
    "print(\"Probability: {:0.6f}\".format(prob))\n",
    "print(\"------------------------------------------------------------------------\")\n",
    "hmmlearn_log_prob, hmmlearn_state_idx = model_hmmlearn.decode(obs_idxs.reshape(-1, 1))\n",
    "hmmlearn_prob = np.exp(hmmlearn_log_prob)\n",
    "print(\"Result from hmmlearn: \")\n",
    "print (\"Most likely state sequence: \", values_to_keys(state_dict, hmmlearn_state_idx))\n",
    "print(\"Probability: {:0.6f}\".format(hmmlearn_prob))\n",
    "print(\"========================================================================\")"
   ]
  },
  {
   "cell_type": "markdown",
   "metadata": {},
   "source": [
    "### 2.3 Problem 3"
   ]
  },
  {
   "cell_type": "code",
   "execution_count": 8,
   "metadata": {},
   "outputs": [
    {
     "name": "stdout",
     "output_type": "stream",
     "text": [
      "=============================================================\n",
      "** PROBLEM 3: Learn HMM - train the model to a local maximal \n",
      "-------------------------------------------------------------\n",
      "---> Generate data for training hidden markov model ... \n",
      "---> Done!\n",
      "Data: \n",
      "-----\n",
      "[2 1 1 2 0 1 0 2 2 2 2 1 1 1 1 2 1 2 2 2 2 0 2 2 2 2 1 1 2 2 0 2 2 2 0 1 2\n",
      " 0 2 2 2 2 2 2 2 1 0 1 2 2 1 2 1 2 2 0 2 0 0 2 2 0 0 2 2 2 2 0 2 2 0 0 1 1\n",
      " 0 2 0 0 0 1 2 1 2 0 2 1 0 2 2 1 2 2 2 0 2 2 2 0 0 2 2 2 1 2 0 0 2 2 1 0 2\n",
      " 1 0 1 2 0 2 0 2 1 0 0 2 0 2 2 2 2 2 0 0 2 2 2 0 2 2 2 2 2 0 2 1 1 0 0 1 1\n",
      " 0 0 1 0 2 0 1 0 2 2 2 0 1 2 1 2 2 0 0 0 0 2 2 2 0 2 0 0 2 0 1 0 2 2 2 1 1\n",
      " 2 2 0 1 0 2 2 2 0 2 2 1 0 2 2 2 2 2 0 0 2 1 1 0 2 0 2 1 2 1 2 2 0 2 2 2 2\n",
      " 2 0 2 0 0 2 0 0 2 2 2 2 2 2 0 0 2 2 2 2 0 0 0 2 0 2 2 2 1 2 2 0 2 2 1 2 0\n",
      " 0 2 2 1 0 2 2 2 0 2 0 1 2 2 2 0 2 0 2 2 2 1 2 1 0 0 2 0 0 1 0 2 1 0 0 2 2\n",
      " 2 2 0 2 2 2 1 1 1 2 0 0 2 2 2 2 2 2 1 0 0 0 2 2 2 1 1 2 0 1 2 2 0 1 2 2 2\n",
      " 2 2 1 1 2 2 2 0 2 0 0 2 2 1 0 2 2 2 0 0 1 1 1 0 0 1 2 2 2 2 0 2 0 2 2 2 1\n",
      " 0 2 2 2 0 2 2 2 1 2 1 0 0 2 2 1 2 1 2 2 2 2 2 2 2 2 2 2 2 1 2 1 2 2 2 2 2\n",
      " 0 0 2 0 0 1 2 2 0 2 2 1 1 2 0 2 2 1 0 2 2 2 0 2 2 0 2 0 1 2 2 2 2 1 1 2 2\n",
      " 0 1 0 2 1 0 2 2 1 0 2 2 2 0 2 2 0 2 2 0 1 0 2 2 2 2 1 2 0 2 2 2 0 1 0 0 2\n",
      " 2 0 1 2 0 2 2 0 2 2 0 0 2 0 2 2 1 2 0]\n",
      "---> Starting learning\n",
      "----------------------\n",
      "Iter: 10, delta: 0.06424 \n",
      "Iter: 20, delta: 0.08234 \n",
      "Iter: 30, delta: 0.03647 \n",
      "Iter: 40, delta: 0.01997 \n",
      "Iter: 50, delta: 0.02029 \n",
      "Iter: 60, delta: 0.02248 \n",
      "Iter: 70, delta: 0.02541 \n",
      "Iter: 80, delta: 0.02730 \n",
      "Iter: 90, delta: 0.02807 \n",
      "Iter: 100, delta: 0.02894 \n",
      "Iter: 110, delta: 0.03116 \n",
      "Iter: 120, delta: 0.03551 \n",
      "Iter: 130, delta: 0.03549 \n",
      "Iter: 140, delta: 0.03045 \n",
      "Iter: 150, delta: 0.02487 \n",
      "Iter: 160, delta: 0.02247 \n",
      "Iter: 170, delta: 0.01989 \n",
      "Iter: 180, delta: 0.01682 \n",
      "Iter: 190, delta: 0.01391 \n",
      "Iter: 200, delta: 0.01155 \n",
      "---> Done!\n"
     ]
    }
   ],
   "source": [
    "print(\"=============================================================\")\n",
    "print(\"** PROBLEM 3: Learn HMM - train the model to a local maximal \")\n",
    "print(\"-------------------------------------------------------------\")\n",
    "\n",
    "print(\"---> Generate data for training hidden markov model ... \")\n",
    "print(\"---> Done!\")\n",
    "print(\"Data: \")\n",
    "print(\"-----\")\n",
    "observations_data, states_data = model.sample(500)\n",
    "print(observations_data)\n",
    "print(\"---> Starting learning\")\n",
    "print(\"----------------------\")\n",
    "# Init A, B, pi\n",
    "A_init = np.array([\n",
    "    [0.3, 0.3, 0.4],\n",
    "    [0.1, 0.6, 0.3],\n",
    "    [0.2, 0.2, 0.6]\n",
    "])\n",
    "\n",
    "B_init = np.array([\n",
    "    [0.3, 0.4, 0.3],\n",
    "    [0.2, 0.2, 0.6],\n",
    "    [0.25, 0.25, 0.5],\n",
    "])\n",
    "\n",
    "pi_init = np.array([0.3, 0.5, 0.2])\n",
    "\n",
    "model2 = HMM(A_init, B_init, pi_init)\n",
    "\n",
    "model2.fit(observations_data, \n",
    "           max_step=10000, \n",
    "           stop_criterion=0.01, \n",
    "           verbose=10)\n",
    "\n",
    "print(\"---> Done!\")"
   ]
  },
  {
   "cell_type": "code",
   "execution_count": 9,
   "metadata": {},
   "outputs": [
    {
     "name": "stdout",
     "output_type": "stream",
     "text": [
      "Done!\n"
     ]
    }
   ],
   "source": [
    "# Specify pi, A, B of model \n",
    "model_hmmlearn.transmat_ = A_init\n",
    "model_hmmlearn.emissionprob_ = B_init\n",
    "model_hmmlearn.startprob_ = pi_init\n",
    "\n",
    "model_hmmlearn.fit(observations_data.reshape(-1, 1))\n",
    "print(\"Done!\")"
   ]
  },
  {
   "cell_type": "code",
   "execution_count": 10,
   "metadata": {},
   "outputs": [
    {
     "name": "stdout",
     "output_type": "stream",
     "text": [
      "Score with hmmlearn: \n",
      "--------------------\n",
      "P(O|model) = 0.001379\n"
     ]
    }
   ],
   "source": [
    "print(\"Score with hmmlearn: \")\n",
    "print(\"--------------------\")\n",
    "print(\"P(O|model) = {:0.6f}\".format(np.exp(model_hmmlearn.score(obs_idxs.reshape(-1, 1)))))"
   ]
  },
  {
   "cell_type": "code",
   "execution_count": 11,
   "metadata": {},
   "outputs": [
    {
     "name": "stdout",
     "output_type": "stream",
     "text": [
      "Score with pylearn_ml191: \n",
      "--------------------\n",
      "P(O|model) = 0.004657\n"
     ]
    }
   ],
   "source": [
    "print(\"Score with pylearn_ml191: \")\n",
    "print(\"--------------------\")\n",
    "print(\"P(O|model) = {:0.6f}\".format(model.score(obs_idxs)))"
   ]
  }
 ],
 "metadata": {
  "kernelspec": {
   "display_name": "Python 3",
   "language": "python",
   "name": "python3"
  },
  "language_info": {
   "codemirror_mode": {
    "name": "ipython",
    "version": 3
   },
   "file_extension": ".py",
   "mimetype": "text/x-python",
   "name": "python",
   "nbconvert_exporter": "python",
   "pygments_lexer": "ipython3",
   "version": "3.7.4"
  }
 },
 "nbformat": 4,
 "nbformat_minor": 4
}
