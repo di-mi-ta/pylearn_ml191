{
 "cells": [
  {
   "cell_type": "markdown",
   "metadata": {},
   "source": [
    "## Import Libraries"
   ]
  },
  {
   "cell_type": "code",
   "execution_count": 1,
   "metadata": {},
   "outputs": [],
   "source": [
    "import numpy as np \n",
    "\n",
    "import matplotlib.pyplot as plt\n",
    "%matplotlib inline \n",
    "\n",
    "from pylearn_ml191.functional import softmax\n",
    "\n",
    "# Ignore warnings\n",
    "import warnings \n",
    "warnings.filterwarnings(\"ignore\")\n",
    "\n",
    "# Fixed random seed\n",
    "RANDOM_SEED = 21"
   ]
  },
  {
   "cell_type": "markdown",
   "metadata": {},
   "source": [
    "## Result "
   ]
  },
  {
   "cell_type": "code",
   "execution_count": 2,
   "metadata": {},
   "outputs": [
    {
     "name": "stdout",
     "output_type": "stream",
     "text": [
      "[[1. 0. 0. 0.]\n",
      " [0. 1. 0. 0.]\n",
      " [0. 0. 1. 0.]]\n"
     ]
    }
   ],
   "source": [
    "Z = np.array([[2, 5, 6.5, 7.5], [4, 1, 3, 4], [6, 9.5, 2.5, 1.5]])\n",
    "labels = ['laptop', 'chuột', 'adapter', 'mobilephone']\n",
    "y_raw = ['laptop', 'chuột', 'adapter']\n",
    "\n",
    "# Label Encoder \n",
    "y = np.zeros((3, 4))\n",
    "for i, y_ in enumerate(y_raw):\n",
    "    cls = labels.index(y_)\n",
    "    y[i][cls] = 1\n",
    "print(y)"
   ]
  },
  {
   "cell_type": "code",
   "execution_count": 3,
   "metadata": {},
   "outputs": [
    {
     "name": "stdout",
     "output_type": "stream",
     "text": [
      "[[2.81061039e-03 5.64526187e-02 2.53003084e-01 6.87733687e-01]\n",
      " [4.13621976e-01 2.05930256e-02 1.52163022e-01 4.13621976e-01]\n",
      " [2.92767829e-02 9.69513899e-01 8.84082240e-04 3.25235680e-04]]\n"
     ]
    }
   ],
   "source": [
    "# a. Predict \n",
    "y_hat = softmax(Z)\n",
    "print(y_hat)"
   ]
  },
  {
   "cell_type": "code",
   "execution_count": 4,
   "metadata": {},
   "outputs": [
    {
     "name": "stdout",
     "output_type": "stream",
     "text": [
      "16.788116890151976\n"
     ]
    }
   ],
   "source": [
    "# b. Loss \n",
    "L = -np.sum(y*np.log(y_hat))\n",
    "print(L)"
   ]
  },
  {
   "cell_type": "code",
   "execution_count": 5,
   "metadata": {},
   "outputs": [
    {
     "name": "stdout",
     "output_type": "stream",
     "text": [
      "[[-9.97189390e-01  4.13621976e-01  2.92767829e-02]\n",
      " [ 5.64526187e-02 -9.79406974e-01  9.69513899e-01]\n",
      " [ 2.53003084e-01  1.52163022e-01 -9.99115918e-01]\n",
      " [ 6.87733687e-01  4.13621976e-01  3.25235680e-04]]\n"
     ]
    }
   ],
   "source": [
    "# c. \n",
    "dz = (y_hat - y).T\n",
    "print(dz)"
   ]
  }
 ],
 "metadata": {
  "kernelspec": {
   "display_name": "Python 3",
   "language": "python",
   "name": "python3"
  },
  "language_info": {
   "codemirror_mode": {
    "name": "ipython",
    "version": 3
   },
   "file_extension": ".py",
   "mimetype": "text/x-python",
   "name": "python",
   "nbconvert_exporter": "python",
   "pygments_lexer": "ipython3",
   "version": "3.7.4"
  }
 },
 "nbformat": 4,
 "nbformat_minor": 4
}
